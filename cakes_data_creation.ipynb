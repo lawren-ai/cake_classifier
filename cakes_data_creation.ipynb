{
  "nbformat": 4,
  "nbformat_minor": 0,
  "metadata": {
    "colab": {
      "provenance": []
    },
    "kernelspec": {
      "name": "python3",
      "display_name": "Python 3"
    },
    "language_info": {
      "name": "python"
    }
  },
  "cells": [
    {
      "cell_type": "code",
      "execution_count": 1,
      "metadata": {
        "id": "LtgI2uEpRmCx"
      },
      "outputs": [],
      "source": [
        "import torchvision.datasets as datasets\n",
        "import random\n",
        "import shutil\n",
        "from pathlib import Path\n"
      ]
    },
    {
      "cell_type": "code",
      "source": [
        "data_path = Path(\"/data\")"
      ],
      "metadata": {
        "id": "LRMSniX0SBvE"
      },
      "execution_count": 2,
      "outputs": []
    },
    {
      "cell_type": "code",
      "source": [
        "# get training data\n",
        "train_data = datasets.Food101(root=data_path,\n",
        "                              split=\"train\",\n",
        "                              download=True)\n",
        "\n",
        "\n",
        "# get testing data\n",
        "test_data = datasets.Food101(root=data_path,\n",
        "                             split=\"test\",\n",
        "                             download=True)\n"
      ],
      "metadata": {
        "colab": {
          "base_uri": "https://localhost:8080/"
        },
        "id": "5N4-u8g8Rvab",
        "outputId": "fc5e53fa-7e0b-4ef9-e115-41c4c90c2825"
      },
      "execution_count": 3,
      "outputs": [
        {
          "output_type": "stream",
          "name": "stdout",
          "text": [
            "Downloading https://data.vision.ee.ethz.ch/cvl/food-101.tar.gz to /data/food-101.tar.gz\n"
          ]
        },
        {
          "output_type": "stream",
          "name": "stderr",
          "text": [
            "100%|██████████| 4996278331/4996278331 [05:02<00:00, 16496657.88it/s]\n"
          ]
        },
        {
          "output_type": "stream",
          "name": "stdout",
          "text": [
            "Extracting /data/food-101.tar.gz to /data\n"
          ]
        }
      ]
    },
    {
      "cell_type": "code",
      "source": [
        "class_names = train_data.classes\n",
        "target_classes = [\"cup_cakes\", \"red_velvet_cake\", \"chocolate_cake\"]"
      ],
      "metadata": {
        "id": "SfhB6YvxS6fF"
      },
      "execution_count": 5,
      "outputs": []
    },
    {
      "cell_type": "code",
      "source": [
        "\n",
        "data_dir = data_path / \"food-101\" /\"images\"\n",
        "amount_to_get = 1\n",
        "\n",
        "def get_subset(image_path=data_dir,\n",
        "               data_splits=[\"train\", \"test\"],\n",
        "               target_classes=target_classes,\n",
        "               amount=1,\n",
        "               seed=42):\n",
        "  random.seed(42)\n",
        "  label_splits = {}\n",
        "\n",
        "  # get labels\n",
        "  for data_split in data_splits:\n",
        "    label_path = data_path / \"food-101\" / \"meta\" / f\"{data_split}.txt\"\n",
        "    with open(label_path, \"r\") as f:\n",
        "      labels = [line.strip(\"\\n\") for line in f.readlines() if line.split(\"/\")[0] in target_classes]\n",
        "\n",
        "    # get random subset of target classes image IDs\n",
        "    number_to_sample = round(amount * len(labels))\n",
        "    sampled_images = random.sample(labels, k=number_to_sample)\n",
        "\n",
        "    # Apply full paths\n",
        "    image_paths = [Path(str(image_path / sample_image) + \".jpg\") for sample_image in sampled_images]\n",
        "    label_splits[data_split] = image_paths\n",
        "  return label_splits"
      ],
      "metadata": {
        "id": "mJQNxIHJSHKB"
      },
      "execution_count": 6,
      "outputs": []
    },
    {
      "cell_type": "code",
      "source": [
        "label_splits = get_subset(amount=amount_to_get)\n",
        "\n",
        "# move train and test image to target folder\n",
        "# create target directory path\n",
        "target_dir_name = f\"/data/cakes_{str(int(amount_to_get*100))}_percent\"\n",
        "# setup directories\n",
        "target_dir = Path(target_dir_name)\n",
        "\n",
        "# make directories\n",
        "target_dir.mkdir(parents=True, exist_ok=True)\n",
        "\n",
        "for image_split in label_splits.keys():\n",
        "  for image_path in label_splits[str(image_split)]:\n",
        "    dest_dir = target_dir / image_split / image_path.parent.stem / image_path.name\n",
        "    if not dest_dir.parent.is_dir():\n",
        "      dest_dir.parent.mkdir(parents=True, exist_ok=True)\n",
        "    shutil.copy2(image_path, dest_dir)"
      ],
      "metadata": {
        "id": "tApmGPnXSOs0"
      },
      "execution_count": 8,
      "outputs": []
    },
    {
      "cell_type": "code",
      "source": [
        "\n",
        "# Zip cakes images\n",
        "zip_file_name = data_dir / f\"cakes_{str(int(amount_to_get*100))}_percent\"\n",
        "shutil.make_archive(zip_file_name,\n",
        "                    format=\"zip\",\n",
        "                    root_dir=target_dir)"
      ],
      "metadata": {
        "colab": {
          "base_uri": "https://localhost:8080/",
          "height": 36
        },
        "id": "_we4LHheSk-j",
        "outputId": "4dc95ad5-3723-43ec-e090-699c06395677"
      },
      "execution_count": 9,
      "outputs": [
        {
          "output_type": "execute_result",
          "data": {
            "text/plain": [
              "'/data/food-101/images/cakes_100_percent.zip'"
            ],
            "application/vnd.google.colaboratory.intrinsic+json": {
              "type": "string"
            }
          },
          "metadata": {},
          "execution_count": 9
        }
      ]
    },
    {
      "cell_type": "code",
      "source": [],
      "metadata": {
        "id": "isbKU97AT2SP"
      },
      "execution_count": null,
      "outputs": []
    }
  ]
}